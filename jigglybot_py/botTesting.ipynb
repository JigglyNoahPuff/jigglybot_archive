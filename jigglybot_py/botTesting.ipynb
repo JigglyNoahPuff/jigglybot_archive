{
 "cells": [
  {
   "cell_type": "code",
   "execution_count": 4,
   "source": [
    "import os\r\n",
    "\r\n",
    "clipList = [clip[:clip.find('.')] for clip in os.listdir(\"./clips\")]\r\n",
    "\r\n",
    "clipList"
   ],
   "outputs": [
    {
     "output_type": "execute_result",
     "data": {
      "text/plain": [
       "['aKnife',\n",
       " 'ayaya',\n",
       " 'birthdayGift',\n",
       " 'caveJohnsonLemons',\n",
       " 'clickNice',\n",
       " 'collinDontClipThis',\n",
       " 'collinSucksGameTheory',\n",
       " 'collinSucksWatchMojo',\n",
       " 'dedotatedWam',\n",
       " 'deedeeMegadoodoo',\n",
       " 'dIsForDragon',\n",
       " 'dndtGlados',\n",
       " 'dndtOriginal',\n",
       " 'explosionMegumin',\n",
       " 'finlandPatrick',\n",
       " 'fYourChickenStrips',\n",
       " 'goal',\n",
       " 'goneSexual',\n",
       " 'haveYouEverHadADream',\n",
       " 'heyDuck',\n",
       " 'hiOkay',\n",
       " 'iAmAPotatoGLaDOS',\n",
       " 'iAmAWolf',\n",
       " 'iDidNotHitHerGLaDOS',\n",
       " 'iDidNotHitHerMrKrabs',\n",
       " 'iHaveCripplingDepression',\n",
       " 'illuminatiConfirmed',\n",
       " 'iLoveRefrigerators',\n",
       " 'interiorCrocodileAlligator',\n",
       " 'japaneseBruh',\n",
       " 'justDoItShia',\n",
       " 'justHaveToSayThatYoureFine',\n",
       " 'kansasArkansas',\n",
       " 'knowMoreAboutAmericanGirl',\n",
       " 'lawAndOrderSVUDUNDUN',\n",
       " 'leeroyJenkins',\n",
       " 'leftOnStreetCorner',\n",
       " 'lookAtAllThoseChickens',\n",
       " 'lookYoureASimp',\n",
       " 'nintendoDirectGFY',\n",
       " 'ohMy',\n",
       " 'ohMyHowLewd',\n",
       " 'omaeWaMouShindeiru',\n",
       " 'onlyThingWorseThanARapist',\n",
       " 'powerOfGodAndAnime',\n",
       " 'premaritalSex',\n",
       " 'roadWorkDrewGooden',\n",
       " 'robloxOof',\n",
       " 'runDUNDUN',\n",
       " 'shotAndMissGameGrumps',\n",
       " 'sometimesImStraightMaxYnami',\n",
       " 'stillAPieceOfGarbage',\n",
       " 'stopItGetSomeHelp',\n",
       " 'thatsALotOfDamage',\n",
       " 'thatsNotAClipCarlWheezer',\n",
       " 'thisWaifusOursTF2Sniper',\n",
       " 'waffle',\n",
       " 'weatherBoi',\n",
       " 'weHaveSoManyDegenerates',\n",
       " 'whatsUpFers',\n",
       " 'whenLiveGivesYouLemons',\n",
       " 'whenWillYouLearn',\n",
       " 'wheresTheLambSauce',\n",
       " 'whyAreYouBooingMeImRight',\n",
       " 'whyAreYouRunning',\n",
       " 'woahNiceCock',\n",
       " 'wrongNeighborhoodKrabs',\n",
       " 'yahBoi',\n",
       " 'youAreMadeOfStupid',\n",
       " 'youCantSpellNutritionWithoutNut']"
      ]
     },
     "metadata": {},
     "execution_count": 4
    }
   ],
   "metadata": {}
  }
 ],
 "metadata": {
  "orig_nbformat": 4,
  "language_info": {
   "name": "python",
   "version": "3.8.7",
   "mimetype": "text/x-python",
   "codemirror_mode": {
    "name": "ipython",
    "version": 3
   },
   "pygments_lexer": "ipython3",
   "nbconvert_exporter": "python",
   "file_extension": ".py"
  },
  "kernelspec": {
   "name": "python3",
   "display_name": "Python 3.8.7 64-bit (system)"
  },
  "interpreter": {
   "hash": "2db524e06e9f5f4ffedc911c917cb75e12dbc923643829bf417064a77eb14d37"
  }
 },
 "nbformat": 4,
 "nbformat_minor": 2
}